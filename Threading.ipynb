{
  "nbformat": 4,
  "nbformat_minor": 0,
  "metadata": {
    "colab": {
      "provenance": []
    },
    "kernelspec": {
      "name": "python3",
      "display_name": "Python 3"
    },
    "language_info": {
      "name": "python"
    }
  },
  "cells": [
    {
      "cell_type": "code",
      "execution_count": null,
      "metadata": {
        "colab": {
          "base_uri": "https://localhost:8080/"
        },
        "id": "7IH47NE_os_O",
        "outputId": "b2a35187-82c1-422a-9924-62449c9307c4"
      },
      "outputs": [
        {
          "output_type": "stream",
          "name": "stdout",
          "text": [
            "Task 1 started\n",
            "Task 2 started\n",
            "Task 1 finished\n",
            "Task 2 finished\n",
            "All tasks completed\n"
          ]
        }
      ],
      "source": [
        "import threading\n",
        "import time\n",
        "\n",
        "def task1():\n",
        "  print(\"Task 1 started\")\n",
        "  time.sleep(2)   # simulate some work\n",
        "  print(\"Task 1 finished\")\n",
        "\n",
        "def task2():\n",
        "  print(\"Task 2 started\")\n",
        "  time.sleep(3)   # simulate some work\n",
        "  print(\"Task 2 finished\")\n",
        "\n",
        "# create threads\n",
        "thread1=threading.Thread(target=task1)\n",
        "thread2=threading.Thread(target=task2)\n",
        "\n",
        "# start threads\n",
        "thread1.start()\n",
        "thread2.start()\n",
        "\n",
        "# wait for threads to finish (optional)\n",
        "thread1.join()\n",
        "thread2.join()\n",
        "\n",
        "print(\"All tasks completed\")"
      ]
    },
    {
      "cell_type": "markdown",
      "source": [
        "#functions without threading"
      ],
      "metadata": {
        "id": "R5LaXsIUJNSj"
      }
    },
    {
      "cell_type": "code",
      "source": [
        "import time\n",
        "\n",
        "def print_numbers(name):\n",
        "  for i in range(5):\n",
        "    print(f\"{name}: {i}\")\n",
        "    time.sleep(1)\n",
        "\n",
        "# sequential execution\n",
        "start_time=time.time()\n",
        "print_numbers(\"Task 1\")\n",
        "print_numbers(\"Task 2\")\n",
        "end_time=time.time()\n",
        "\n",
        "print(f\"Total time without threading: {end_time-start_time:.2f}seconds\")"
      ],
      "metadata": {
        "colab": {
          "base_uri": "https://localhost:8080/"
        },
        "id": "O2_v_ICIJUuq",
        "outputId": "b1a61eee-bdb4-49d9-89b9-6318b0ff6dfa"
      },
      "execution_count": null,
      "outputs": [
        {
          "output_type": "stream",
          "name": "stdout",
          "text": [
            "Task 1: 0\n",
            "Task 1: 1\n",
            "Task 1: 2\n",
            "Task 1: 3\n",
            "Task 1: 4\n",
            "Task 2: 0\n",
            "Task 2: 1\n",
            "Task 2: 2\n",
            "Task 2: 3\n",
            "Task 2: 4\n",
            "Total time without threading: 10.02seconds\n"
          ]
        }
      ]
    },
    {
      "cell_type": "code",
      "source": [],
      "metadata": {
        "id": "6am2KM1A50yY"
      },
      "execution_count": null,
      "outputs": []
    }
  ]
}